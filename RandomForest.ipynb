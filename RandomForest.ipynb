{
  "nbformat": 4,
  "nbformat_minor": 0,
  "metadata": {
    "colab": {
      "provenance": []
    },
    "kernelspec": {
      "name": "python3",
      "display_name": "Python 3"
    },
    "language_info": {
      "name": "python"
    }
  },
  "cells": [
    {
      "cell_type": "code",
      "execution_count": null,
      "metadata": {
        "id": "ek3-01svDsLS",
        "colab": {
          "base_uri": "https://localhost:8080/"
        },
        "outputId": "fcf68b85-74be-40fc-b360-512ca8f59385"
      },
      "outputs": [
        {
          "output_type": "stream",
          "name": "stdout",
          "text": [
            "Accuracy of random forest classifier: 1.0\n",
            "name: 0.10809762464246378\n",
            "name: 0.030386812473242528\n",
            "name: 0.43999397414456937\n",
            "name: 0.4215215887397244\n"
          ]
        }
      ],
      "source": [
        "from sklearn.datasets import load_iris\n",
        "from sklearn.ensemble import RandomForestClassifier\n",
        "from sklearn.model_selection import train_test_split\n",
        "from sklearn.metrics import accuracy_score\n",
        "\n",
        "iris=load_iris()\n",
        "X=iris.data\n",
        "y=iris.target\n",
        "\n",
        "X_train,X_test,y_train,y_test=train_test_split(X,y,test_size=0.2,random_state=42)\n",
        "\n",
        "rf_classifier=RandomForestClassifier(n_estimators=100,random_state=42)\n",
        "rf_classifier.fit(X_train,y_train)\n",
        "\n",
        "y_pred=rf_classifier.predict(X_test)\n",
        "\n",
        "accuracy=accuracy_score(y_test,y_pred)\n",
        "print(f\"Accuracy of random forest classifier:\",accuracy)\n",
        "\n",
        "feature_importances=rf_classifier.feature_importances_\n",
        "for name,importance in zip(iris.feature_names, feature_importances):\n",
        "    print(\"name:\",importance)"
      ]
    }
  ]
}