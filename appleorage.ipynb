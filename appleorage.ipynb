{
  "nbformat": 4,
  "nbformat_minor": 0,
  "metadata": {
    "colab": {
      "provenance": []
    },
    "kernelspec": {
      "name": "python3",
      "display_name": "Python 3"
    },
    "language_info": {
      "name": "python"
    }
  },
  "cells": [
    {
      "cell_type": "code",
      "execution_count": null,
      "metadata": {
        "colab": {
          "base_uri": "https://localhost:8080/"
        },
        "id": "W0qB2zbavAzw",
        "outputId": "19df951f-719e-485d-8026-58a7b8d0f7f4"
      },
      "outputs": [
        {
          "output_type": "stream",
          "name": "stdout",
          "text": [
            "[0]\n"
          ]
        }
      ],
      "source": [
        "from sklearn import tree\n",
        "features=[[140,1],[130,1],[150,0],[170,0]]\n",
        "labels=[0,0,1,1]\n",
        "clf=tree.DecisionTreeClassifier()\n",
        "clf=clf.fit(features,labels)\n",
        "output=clf.predict([[130,1]])\n",
        "print(output)"
      ]
    }
  ]
}