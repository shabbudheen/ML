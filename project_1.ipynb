{
  "nbformat": 4,
  "nbformat_minor": 0,
  "metadata": {
    "colab": {
      "provenance": []
    },
    "kernelspec": {
      "name": "python3",
      "display_name": "Python 3"
    },
    "language_info": {
      "name": "python"
    }
  },
  "cells": [
    {
      "cell_type": "code",
      "execution_count": 5,
      "metadata": {
        "colab": {
          "base_uri": "https://localhost:8080/"
        },
        "id": "U01ET2V2K9sz",
        "outputId": "0f85c02b-5226-4df1-d492-2aca575023a0"
      },
      "outputs": [
        {
          "output_type": "stream",
          "name": "stdout",
          "text": [
            "Accuracy: 0.8626845637583893\n",
            "\n",
            "Classification Report:\n",
            "               precision    recall  f1-score   support\n",
            "\n",
            "          -1       0.88      0.67      0.76      1667\n",
            "           0       0.85      0.95      0.90      2615\n",
            "           1       0.86      0.89      0.88      3168\n",
            "\n",
            "    accuracy                           0.86      7450\n",
            "   macro avg       0.87      0.84      0.85      7450\n",
            "weighted avg       0.86      0.86      0.86      7450\n",
            "\n"
          ]
        }
      ],
      "source": [
        "import pandas as pd\n",
        "from sklearn.model_selection import train_test_split\n",
        "from sklearn.feature_extraction.text import TfidfVectorizer\n",
        "from sklearn.linear_model import LogisticRegression\n",
        "from sklearn.metrics import classification_report, accuracy_score\n",
        "\n",
        "# Load data\n",
        "# Make sure the file 'Reddit_Data.csv' is uploaded to your Colab environment\n",
        "# and the path is correct. If the file is in the root directory, the path is just 'Reddit_Data.csv'\n",
        "# If it's in a subdirectory, specify the path like 'subdirectory/Reddit_Data.csv'\n",
        "try:\n",
        "    data = pd.read_csv('Reddit_Data.csv')\n",
        "except FileNotFoundError:\n",
        "    print(\"Error: 'Reddit_Data.csv' not found. Please upload the file or check the file path.\")\n",
        "    # You might want to exit or handle the error differently here\n",
        "    # exit() # Removed exit() to allow the FileNotFoundError to be shown\n",
        "\n",
        "# Drop rows with missing values in the 'category' column\n",
        "data.dropna(subset=['category'], inplace=True)\n",
        "\n",
        "# Example column names, change if different\n",
        "texts = data['clean_comment'].astype(str).tolist()       # change 'text' to your text column name\n",
        "labels = data['category'].tolist()              # change 'sentiment' to your label column name\n",
        "\n",
        "# Split data\n",
        "X_train, X_test, y_train, y_test = train_test_split(\n",
        "    texts, labels, test_size=0.2, random_state=42\n",
        ")\n",
        "\n",
        "# Vectorize text using TF-IDF\n",
        "vectorizer = TfidfVectorizer(max_features=10000, ngram_range=(1,2))\n",
        "X_train_tfidf = vectorizer.fit_transform(X_train)\n",
        "X_test_tfidf = vectorizer.transform(X_test)\n",
        "\n",
        "# Train Logistic Regression classifier\n",
        "clf = LogisticRegression(max_iter=200)\n",
        "clf.fit(X_train_tfidf, y_train)\n",
        "\n",
        "# Predict on test set\n",
        "y_pred = clf.predict(X_test_tfidf)\n",
        "\n",
        "# Evaluate\n",
        "print(\"Accuracy:\", accuracy_score(y_test, y_pred))\n",
        "print(\"\\nClassification Report:\\n\", classification_report(y_test, y_pred))"
      ]
    },
    {
      "cell_type": "code",
      "source": [],
      "metadata": {
        "id": "v8_W2c1WUQ40"
      },
      "execution_count": null,
      "outputs": []
    }
  ]
}